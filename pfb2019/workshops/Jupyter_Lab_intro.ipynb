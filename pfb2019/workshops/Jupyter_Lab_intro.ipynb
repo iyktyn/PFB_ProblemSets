{
 "cells": [
  {
   "cell_type": "markdown",
   "metadata": {
    "deletable": true,
    "editable": true
   },
   "source": [
    "<img src=\"https://jupyter.org/assets/main-logo.svg\" width=\"25%\" height=\"25%\" />\n",
    "\n",
    "<br/>\n",
    "\n",
    "# Interactive Coding With [Jupyter Lab](https://jupyterlab.readthedocs.io/en/stable/)\n",
    "\n",
    "From the docs:\n",
    "\n",
    ">JupyterLab enables you to work with documents and activities such as Jupyter notebooks, text editors, terminals, and custom components in a flexible, integrated, and extensible manner. You can arrange multiple documents and activities side by side in the work area using tabs and splitters."
   ]
  },
  {
   "cell_type": "markdown",
   "metadata": {
    "deletable": true,
    "editable": true
   },
   "source": [
    "## What is interactive coding, and why is it useful?\n",
    "\n",
    "Up to this point you've been executing your code as program from the command line to achieve your final results. There are scenarios, particularly in data analysis, where you need to frequently adjust parameters to search for meaningful patterns. Running a script to change a single parameter can be time consuming, especially if you have commands that require a large amount of CPU time. Interactive coding is simply running your scripts line-by-line or in \"chunks\" so you can frequently view the output as you write.\n",
    "\n",
    "[From wikipedia:](https://en.wikipedia.org/wiki/List_of_programming_languages_by_type#Interactive_mode_languages)\n",
    "_Interactive mode languages act as a kind of shell: expressions or statements can be entered one at a time, and the result of their evaluation is seen immediately. The interactive mode is also known as a REPL (read–eval–print loop)._\n",
    "\n",
    "**Good coding practice alert!**\n",
    "\n",
    "You should **always** ensure that your code runs, and generates **expected and reproducible results**, when executed from the command line. When you code interactively, it can be easy to assign variables out of order. This is especially true for notebooks.\n",
    "\n",
    "### Installation\n",
    "\n",
    "Jupyter Lab is incredibly easy to [install with conda](https://anaconda.org/conda-forge/jupyterlab). Simply run the following command in your home directory: \n",
    "\n",
    "`conda install -c conda-forge jupyterlab`\n",
    "\n",
    "To launch Juypter Lab, type `jupyter lab` from your home directory. You'll notice that Jupyter Lab's built in file browser only allows you to navigate as far back as the directory you launch the app from. \n",
    "\n",
    "**Note:** Recall that conda is already installed in the Hershey lab computers. If you would like to install conda on your personal computer, you should install Miniconda, which you can find at this [link](https://docs.conda.io/en/latest/miniconda.html). I _do not_ recommend installing Anaconda, as it contains many large programs that you will likely never use.\n",
    "\n",
    "### What's the difference between Anaconda, Miniconda, conda?\n",
    "\n",
    "**Anaconda** and **Miniconda** are _software distributions_. Software distributions are a way to deliver software from a developer to the end user. **conda** is a _package manager_. A package manager is a collection of software tools that greatly simplifies managing your programming environment. In other words, conda is responsible for installing, upgrading, and configuring every program that you decide to add to your system.\n",
    "\n",
    "Miniconda contains the minimal installer for conda. It's all you need to get started with installing your own bioinformatics software on your personal computer, or on your institution's server. Anaconda also contains conda, but includes a ton additional of software that you probably won't use."
   ]
  },
  {
   "cell_type": "markdown",
   "metadata": {
    "deletable": true,
    "editable": true
   },
   "source": [
    "## Interactive coding with Jupyter notebooks\n",
    "\n",
    "Notebook documents are both readable documents containing the analysis description and the results (e.g. figures, tables), as well as executable code which can be run to perform data analysis. Everything in this presentation is written in a Jupyter Notebook.\n",
    "\n",
    "Executable code in Jupyter notebooks is written into \"cells\". A cell can contain either Python code or markdown. Let's run some code from the Pandas introduction to see how this works.\n",
    "\n",
    "A very effective way to write python scripts is to write a few lines of python in a notebook, run them to make sure they work, write a few more, and continue the test, write cycle until you have a working script. You can then copy and paste into a python script or export the python code from the notebook. Unfortunately, this approach doesn't work well for scripts that expect command line parameters (`sys.argv` or `argparse`) because there is no equivalent of a command line in notebooks. A possible workaround is to hardcode the command line parameters in your notebook and remove those lines when you convert the notebook into a script."
   ]
  },
  {
   "cell_type": "code",
   "execution_count": 1,
   "metadata": {
    "deletable": true,
    "editable": true
   },
   "outputs": [
    {
     "name": "stdout",
     "output_type": "stream",
     "text": [
      "Done\n"
     ]
    }
   ],
   "source": [
    "import os\n",
    "import pandas as pd\n",
    "\n",
    "# Change the working directory\n",
    "os.chdir('/Users/ddiaz/Documents/diazdc-pfb2019/')\n",
    "\n",
    "print(\"Done\")"
   ]
  },
  {
   "cell_type": "code",
   "execution_count": 2,
   "metadata": {
    "deletable": true,
    "editable": true
   },
   "outputs": [
    {
     "data": {
      "text/html": [
       "<div>\n",
       "<style scoped>\n",
       "    .dataframe tbody tr th:only-of-type {\n",
       "        vertical-align: middle;\n",
       "    }\n",
       "\n",
       "    .dataframe tbody tr th {\n",
       "        vertical-align: top;\n",
       "    }\n",
       "\n",
       "    .dataframe thead th {\n",
       "        text-align: right;\n",
       "    }\n",
       "</style>\n",
       "<table border=\"1\" class=\"dataframe\">\n",
       "  <thead>\n",
       "    <tr style=\"text-align: right;\">\n",
       "      <th></th>\n",
       "      <th>n_counts</th>\n",
       "      <th>n_genes</th>\n",
       "      <th>percent_mito</th>\n",
       "      <th>tree_ident</th>\n",
       "    </tr>\n",
       "    <tr>\n",
       "      <th>index</th>\n",
       "      <th></th>\n",
       "      <th></th>\n",
       "      <th></th>\n",
       "      <th></th>\n",
       "    </tr>\n",
       "  </thead>\n",
       "  <tbody>\n",
       "    <tr>\n",
       "      <td>AAACGGGTCCACGTGG-1_8</td>\n",
       "      <td>5586</td>\n",
       "      <td>2022</td>\n",
       "      <td>0.006445</td>\n",
       "      <td>3</td>\n",
       "    </tr>\n",
       "    <tr>\n",
       "      <td>AAAGATGCACGAAATA-1_10</td>\n",
       "      <td>1879</td>\n",
       "      <td>822</td>\n",
       "      <td>0.019702</td>\n",
       "      <td>3</td>\n",
       "    </tr>\n",
       "    <tr>\n",
       "      <td>AAACCTGGTTGAACTC-1_5</td>\n",
       "      <td>2765</td>\n",
       "      <td>1277</td>\n",
       "      <td>0.010138</td>\n",
       "      <td>6</td>\n",
       "    </tr>\n",
       "    <tr>\n",
       "      <td>AAACCTGTCACCTTAT-1_6</td>\n",
       "      <td>2771</td>\n",
       "      <td>1144</td>\n",
       "      <td>0.019530</td>\n",
       "      <td>7</td>\n",
       "    </tr>\n",
       "    <tr>\n",
       "      <td>AAACCTGAGCACCGCT-1_1</td>\n",
       "      <td>1980</td>\n",
       "      <td>928</td>\n",
       "      <td>0.026781</td>\n",
       "      <td>7</td>\n",
       "    </tr>\n",
       "    <tr>\n",
       "      <td>AAAGATGCATCGATTG-1_11</td>\n",
       "      <td>1135</td>\n",
       "      <td>566</td>\n",
       "      <td>0.056537</td>\n",
       "      <td>7</td>\n",
       "    </tr>\n",
       "    <tr>\n",
       "      <td>AAACCTGCACATTCGA-1_2</td>\n",
       "      <td>2238</td>\n",
       "      <td>894</td>\n",
       "      <td>0.024150</td>\n",
       "      <td>9</td>\n",
       "    </tr>\n",
       "    <tr>\n",
       "      <td>AAACCTGCATGCCTTC-1_4</td>\n",
       "      <td>3437</td>\n",
       "      <td>1438</td>\n",
       "      <td>0.012529</td>\n",
       "      <td>12</td>\n",
       "    </tr>\n",
       "    <tr>\n",
       "      <td>AAAGATGCAAGGACTG-1_9</td>\n",
       "      <td>1904</td>\n",
       "      <td>831</td>\n",
       "      <td>0.025223</td>\n",
       "      <td>13</td>\n",
       "    </tr>\n",
       "    <tr>\n",
       "      <td>AAACCTGCAGGGTTAG-1_3</td>\n",
       "      <td>2839</td>\n",
       "      <td>1025</td>\n",
       "      <td>0.005640</td>\n",
       "      <td>14</td>\n",
       "    </tr>\n",
       "  </tbody>\n",
       "</table>\n",
       "</div>"
      ],
      "text/plain": [
       "                       n_counts  n_genes  percent_mito  tree_ident\n",
       "index                                                             \n",
       "AAACGGGTCCACGTGG-1_8       5586     2022      0.006445           3\n",
       "AAAGATGCACGAAATA-1_10      1879      822      0.019702           3\n",
       "AAACCTGGTTGAACTC-1_5       2765     1277      0.010138           6\n",
       "AAACCTGTCACCTTAT-1_6       2771     1144      0.019530           7\n",
       "AAACCTGAGCACCGCT-1_1       1980      928      0.026781           7\n",
       "AAAGATGCATCGATTG-1_11      1135      566      0.056537           7\n",
       "AAACCTGCACATTCGA-1_2       2238      894      0.024150           9\n",
       "AAACCTGCATGCCTTC-1_4       3437     1438      0.012529          12\n",
       "AAAGATGCAAGGACTG-1_9       1904      831      0.025223          13\n",
       "AAACCTGCAGGGTTAG-1_3       2839     1025      0.005640          14"
      ]
     },
     "execution_count": 2,
     "metadata": {},
     "output_type": "execute_result"
    }
   ],
   "source": [
    "cell_attributes = pd.read_csv(\"./meta_data.csv\", index_col=0)\n",
    "\n",
    "# Let's make a smaller dataset to work with\n",
    "cell_df_sub = cell_attributes.iloc[:10,[0,1,3,5]]\n",
    "\n",
    "# Set ascending=True to reverse the order\n",
    "cell_df_sub.sort_values('n_counts', ascending=False)\n",
    "\n",
    "# Sort by multiple columns in different directions\n",
    "cell_df_sub.sort_values(by=['tree_ident', 'n_counts'], ascending=[True, False])"
   ]
  },
  {
   "cell_type": "markdown",
   "metadata": {
    "deletable": true,
    "editable": true
   },
   "source": [
    "### Inline figures\n",
    "\n",
    "**Note:** The \"magic\" (prepended with `%`) command `%matplotlib inline` tells the IPython interpreter to render the image below the code cell when all cells are run from the beginning. We'll discuss a few of these commands below."
   ]
  },
  {
   "cell_type": "code",
   "execution_count": 3,
   "metadata": {
    "deletable": true,
    "editable": true
   },
   "outputs": [
    {
     "data": {
      "text/plain": [
       "<matplotlib.axes._subplots.AxesSubplot at 0x121a1d9e8>"
      ]
     },
     "execution_count": 3,
     "metadata": {},
     "output_type": "execute_result"
    },
    {
     "data": {
      "image/png": "[encoded data removed]",
      "text/plain": [
       "<Figure size 432x288 with 1 Axes>"
      ]
     },
     "metadata": {
      "needs_background": "light"
     },
     "output_type": "display_data"
    }
   ],
   "source": [
    "# Make sure matplotlib is installed\n",
    "from matplotlib import pyplot as plt\n",
    "\n",
    "%matplotlib inline\n",
    "cell_df_sub.loc[:,'n_counts'].plot.kde()\n",
    "cell_df_sub.loc[:,'n_genes'].plot.kde()"
   ]
  },
  {
   "cell_type": "markdown",
   "metadata": {
    "deletable": true,
    "editable": true
   },
   "source": [
    "### Notebook use cases\n",
    "\n",
    "#### When notebooks are ideal\n",
    "\n",
    "Notebooks come in handy when you'd like to deploy your code as a reproducible narrative: imagine a combination of an automated lab notebook and a presentation. This works well when you are performing a particular analysis and you'd like to wrap your results, figures, and code into a single executable document. There are countless examples of notebooks on GitHub. Unfortunately GitHub does not consistently render notebooks on their website. I recommend copying/pasting the url for notebooks located in GitHub into Jupyter's [nbviewer](https://nbviewer.jupyter.org/).\n",
    "\n",
    "#### When notebooks are not ideal\n",
    "\n",
    "Notebooks can add an unecessary amount of \"clutter\" to your code. This can be problematic for writing long complex scripts which require debugging. Notebooks are not a good solution for production bioinformatics pipelines or scripts that you want to run without user input."
   ]
  },
  {
   "cell_type": "markdown",
   "metadata": {
    "deletable": true,
    "editable": true
   },
   "source": [
    "## Interactive programming directly from a python script\n",
    "\n",
    "Interactive programming directly from the a python script is very similar to debugging, because you can evaluate each line of your script in a step-wise fashion. This is quite similar to notebook cell, but instead you highlight the amount of text you want to send to the interpreter.\n",
    "\n",
    "Here we're going to open a regular python script from the Jupyter Lab sidebar which contains a few examples from previous problem sets. You can right click on the editor for any notebook or python script and select \"New Console\" to bring up the IPython interpreter for the file you are currently editing. **Shift+enter** is the default shortcut for sending your highlighted text to the interpreter.\n",
    "\n",
    "**Note:** Sending text from a Python script to the interpreter requires that you highlight code with the **correct** indentation (e.g. four spaces). "
   ]
  },
  {
   "cell_type": "markdown",
   "metadata": {
    "deletable": true,
    "editable": true
   },
   "source": [
    "## The IPython console\n",
    "\n",
    "The IPython console is a special type of Python interpreter that can be loaded with every Jupyter Lab session. In addition to running standard python commands, the IPython console can render images, run bash commands, provide syntax highlighting, and many other features which you can read about [here](https://ipython.readthedocs.io/en/stable/) and [here](https://www.codecademy.com/articles/how-to-use-ipython). Let's take a look at a few examples.\n",
    "\n",
    "### Shell commands in the IPython console\n",
    "\n",
    "[_Adapted from the Python Data Science Handbook_](https://github.com/jakevdp/PythonDataScienceHandbook/blob/master/notebooks/01.05-IPython-And-Shell-Commands.ipynb)\n",
    "\n",
    "One of the most useful features is the ability to run bash commands in the IPython console without any extra modules. You simply need to prepend your bash command with a `!`. Alternatively, you can simply type in \"ls\", but you need to be careful that you don't have a variable in your Python session that"
   ]
  },
  {
   "cell_type": "code",
   "execution_count": 4,
   "metadata": {
    "deletable": true,
    "editable": true
   },
   "outputs": [
    {
     "name": "stdout",
     "output_type": "stream",
     "text": [
      "Jupyter_Lab_intro.ipynb Pandas_example.py       \u001b[34mUnix2\u001b[m\u001b[m\n",
      "Jupyter_Lab_ps1.py      \u001b[34mProject\u001b[m\u001b[m                 gitouttahere.sh\n",
      "Jupyter_Lab_sample.py   \u001b[34mPython\u001b[m\u001b[m                  message.txt\n",
      "Pandas.md               README.md               meta_data.csv\n",
      "/Users/ddiaz/Documents/diazdc-pfb2019\n",
      "printing from the shell\n"
     ]
    }
   ],
   "source": [
    "!ls\n",
    "!pwd\n",
    "!echo \"printing from the shell\""
   ]
  },
  {
   "cell_type": "code",
   "execution_count": 5,
   "metadata": {
    "deletable": true,
    "editable": true
   },
   "outputs": [
    {
     "name": "stdout",
     "output_type": "stream",
     "text": [
      "['Jupyter_Lab_intro.ipynb', 'Jupyter_Lab_ps1.py', 'Jupyter_Lab_sample.py', 'Pandas.md', 'Pandas_example.py', 'Project', 'Python', 'README.md', 'Unix2', 'gitouttahere.sh', 'message.txt', 'meta_data.csv']\n",
      "['/Users/ddiaz/Documents/diazdc-pfb2019']\n"
     ]
    },
    {
     "data": {
      "text/plain": [
       "IPython.utils.text.SList"
      ]
     },
     "execution_count": 5,
     "metadata": {},
     "output_type": "execute_result"
    }
   ],
   "source": [
    "contents = !ls\n",
    "print(contents)\n",
    "\n",
    "directory = !pwd\n",
    "\n",
    "print(directory)\n",
    "type(directory)"
   ]
  },
  {
   "cell_type": "markdown",
   "metadata": {
    "deletable": true,
    "editable": true
   },
   "source": [
    "### IPython \"magic\" commands\n",
    "\n",
    "From [the IPython manual](https://ipython.readthedocs.io/en/stable/interactive/magics.html):\n",
    "\n",
    "\n",
    ">IPython has a set of predefined ‘magic functions’ that you can call with a command line style syntax. There are two kinds of magics, line-oriented and cell-oriented. Line magics are prefixed with the `%` character and work much like OS command-line calls: they get as an argument the rest of the line, where arguments are passed without parentheses or quotes. Cell magics are prefixed with a double `%%`, and they are functions that get as an argument not only the rest of the line, but also the lines below it in a separate argument.\n",
    "\n",
    "Let's take a look a few of the most useful IPython magic commands. You can find a complete summary of them in [this section](https://ipython.readthedocs.io/en/stable/interactive/magics.html) of IPython manual.\n",
    "\n",
    "**Note:** magic commands can be run in the IPython console or a notebook cell."
   ]
  },
  {
   "cell_type": "markdown",
   "metadata": {
    "deletable": true,
    "editable": true
   },
   "source": [
    "#### %who_ls\n",
    "\n",
    "Displays all variables in working environment"
   ]
  },
  {
   "cell_type": "code",
   "execution_count": 6,
   "metadata": {},
   "outputs": [
    {
     "data": {
      "text/plain": [
       "['cell_attributes', 'cell_df_sub', 'contents', 'directory', 'os', 'pd', 'plt']"
      ]
     },
     "execution_count": 6,
     "metadata": {},
     "output_type": "execute_result"
    }
   ],
   "source": [
    "%who_ls"
   ]
  },
  {
   "cell_type": "markdown",
   "metadata": {},
   "source": [
    "#### %matplotlib\n",
    "\n",
    "This function lets you activate matplotlib interactive support at any point during an IPython session. It does not import anything into the interactive namespace."
   ]
  },
  {
   "cell_type": "code",
   "execution_count": 7,
   "metadata": {
    "deletable": true,
    "editable": true
   },
   "outputs": [],
   "source": [
    "%matplotlib inline"
   ]
  },
  {
   "cell_type": "markdown",
   "metadata": {},
   "source": [
    "#### %%writefile\n",
    "\n",
    "Write the contents of a cell to a file."
   ]
  },
  {
   "cell_type": "code",
   "execution_count": 8,
   "metadata": {
    "deletable": true,
    "editable": true
   },
   "outputs": [
    {
     "name": "stdout",
     "output_type": "stream",
     "text": [
      "Overwriting message.txt\n"
     ]
    }
   ],
   "source": [
    "%%writefile message.txt\n",
    "\"don't forget to commit your changes!\""
   ]
  },
  {
   "cell_type": "markdown",
   "metadata": {},
   "source": [
    "#### %time \n",
    "\n",
    "Time execution of a Python statement or expression. When used with a single `%` the time for a command on a single line is returned. When used with `%%` the run time for the whole cell is returned."
   ]
  },
  {
   "cell_type": "code",
   "execution_count": 10,
   "metadata": {
    "deletable": true,
    "editable": true
   },
   "outputs": [
    {
     "name": "stdout",
     "output_type": "stream",
     "text": [
      "wake up\n",
      "CPU times: user 831 µs, sys: 1.45 ms, total: 2.28 ms\n",
      "Wall time: 2 s\n"
     ]
    }
   ],
   "source": [
    "%%time\n",
    "\n",
    "import time\n",
    "time.sleep(2)\n",
    "print(\"wake up\")"
   ]
  },
  {
   "cell_type": "markdown",
   "metadata": {},
   "source": [
    "#### %load\n",
    "\n",
    "Load a python script into a cell."
   ]
  },
  {
   "cell_type": "code",
   "execution_count": 1,
   "metadata": {
    "deletable": true,
    "editable": true
   },
   "outputs": [],
   "source": [
    "%load Jupyter_Lab_ps1.py"
   ]
  },
  {
   "cell_type": "markdown",
   "metadata": {},
   "source": [
    "## Launching Jupyter Lab from a Remote Server\n",
    "\n",
    "If you're working from a remote server Jupyter Lab can be launched with a couple extra steps. The key argument when launching the app is `--no-browser` (this is a useful google keyword if you need to troubleshoot connection issues).\n",
    "\n",
    "```\n",
    "nohup jupyter lab --no-browser --port=8889\n",
    "```\n",
    "\n",
    "The port doesn't have to be specific. After running this command, there will be an output file called \"nohup.out\" in the directory you launched the app from. At the **very end** of this file there will be a url token that looks like the following:\n",
    "\n",
    "```\n",
    "http://localhost:8889/?token=c8baf0f64a424c15503071405c6da1a5ca78af38c12b25c9\n",
    "```\n",
    "\n",
    "\n",
    "Next, go to your local terminal and type in the following command:\n",
    "\n",
    "```\n",
    "ssh -N -f -L localhost:8889:localhost:8889 username@hostname\n",
    "```\n",
    "\n",
    "Now you can copy/paste the token produced in nohup.out in your local browser when prompted."
   ]
  },
  {
   "cell_type": "markdown",
   "metadata": {
    "deletable": true,
    "editable": true
   },
   "source": [
    "## Summary\n",
    "\n",
    "It's important to note that there is no single \"best\" application for writing code. As you continue to write your own scripts, you'll come across a pelthora of programs (and opinions) that will all produce the same result. If you are curious, I fully encourage you to explore and see what works best for you. Here's a [great Stackoverflow survey](https://insights.stackoverflow.com/survey/2019#technology-_-most-popular-development-environments) over some of the most popular text editors/IDEs that programmers are currently using. Nearly all of these options are free."
   ]
  }
 ],
 "metadata": {
  "kernelspec": {
   "display_name": "Python 3",
   "language": "python",
   "name": "python3"
  },
  "language_info": {
   "codemirror_mode": {
    "name": "ipython",
    "version": 3
   },
   "file_extension": ".py",
   "mimetype": "text/x-python",
   "name": "python",
   "nbconvert_exporter": "python",
   "pygments_lexer": "ipython3",
   "version": "3.7.3"
  }
 },
 "nbformat": 4,
 "nbformat_minor": 4
}
